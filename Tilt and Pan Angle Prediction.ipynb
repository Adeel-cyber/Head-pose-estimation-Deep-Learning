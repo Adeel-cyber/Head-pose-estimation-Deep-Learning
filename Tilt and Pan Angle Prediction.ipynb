{
 "cells": [
  {
   "cell_type": "code",
   "execution_count": null,
   "metadata": {},
   "outputs": [],
   "source": [
    "from sklearn.model_selection import train_test_split\n",
    "import tensorflow as tf\n",
    "import numpy as np\n",
    "import sklearn\n",
    "import cv2\n",
    "import scipy\n",
    "import keras\n",
    "import glob\n",
    "import os\n",
    "import cv2"
   ]
  },
  {
   "cell_type": "code",
   "execution_count": null,
   "metadata": {},
   "outputs": [],
   "source": [
    "print(\"CV2\", cv2.__version__)\n",
    "print(\"Tensorflow\",tf.__version__)\n",
    "print(\"Numpy\",np.__version__)\n",
    "print(\"sklearn\",sklearn.__version__)\n",
    "print(\"scipy\",scipy.__version__)\n",
    "print(\"keras\",keras.__version__)"
   ]
  },
  {
   "cell_type": "code",
   "execution_count": null,
   "metadata": {},
   "outputs": [],
   "source": [
    "file_list = glob.glob(\"./modified_data/*\")\n",
    "print(len(file_list), \"number of files\")"
   ]
  },
  {
   "cell_type": "code",
   "execution_count": null,
   "metadata": {},
   "outputs": [],
   "source": [
    "# Reading our training CSV file\n",
    "with open(\"./train_data.csv\", \"r\") as f:\n",
    "    lines = f.readlines()\n",
    "    \n",
    "dataset = []\n",
    "\n",
    "for line in lines[1:]:\n",
    "    \n",
    "    sline = line.strip().split(\",\")\n",
    "    dataset.append({\n",
    "        \"file\": sline[0],\n",
    "        \"person_id\": int(sline[1]),\n",
    "        \"series\": int(sline[2]),\n",
    "        \"tilt\": int(sline[3]),\n",
    "        \"pan\": int(sline[4])\n",
    "    })"
   ]
  },
  {
   "cell_type": "code",
   "execution_count": null,
   "metadata": {},
   "outputs": [],
   "source": [
    "# Displaying tilt and pan angles\n",
    "tilts = [item[\"tilt\"] for item in dataset]\n",
    "pans = [item[\"pan\"] for item in dataset]\n",
    "\n",
    "all_tilts = np.unique(tilts)\n",
    "all_pans = np.unique(pans)\n",
    "\n",
    "print (\"Tilt angles : \", all_tilts)\n",
    "print (\"Pan angles : \", all_pans)"
   ]
  },
  {
   "cell_type": "markdown",
   "metadata": {},
   "source": [
    "# Group Classes"
   ]
  },
  {
   "cell_type": "code",
   "execution_count": null,
   "metadata": {
    "scrolled": true
   },
   "outputs": [],
   "source": [
    "# Grouping tilt and pan angle\n",
    "grouped_classes = {}\n",
    "class_groups = {}\n",
    "class_counter = 0\n",
    "\n",
    "for tilt in all_tilts:\n",
    "    grouped_classes[tilt] = {}\n",
    "    for pan in all_pans:\n",
    "        grouped_classes[tilt][pan] = class_counter\n",
    "        class_groups[class_counter] = {\"tilt\": tilt, \"pan\": pan}\n",
    "        class_counter+=1\n",
    "        \n",
    "class_groups"
   ]
  },
  {
   "cell_type": "code",
   "execution_count": null,
   "metadata": {},
   "outputs": [],
   "source": [
    "# Storing image path and their tilt and pan angle in lists respectively\n",
    "x_data = []\n",
    "y_data = []\n",
    "\n",
    "for item in dataset:\n",
    "    x_data.append(item[\"file\"])\n",
    "    y_data.append(grouped_classes[item[\"tilt\"]][item[\"pan\"]])\n",
    "\n",
    "x_data, y_data"
   ]
  },
  {
   "cell_type": "code",
   "execution_count": null,
   "metadata": {},
   "outputs": [],
   "source": [
    "# Displaying no of classes after grouping our tilt and pan angles\n",
    "n_classes = len(np.unique(y_data))\n",
    "print(\"Grouped Classes : \",n_classes)"
   ]
  },
  {
   "cell_type": "markdown",
   "metadata": {},
   "source": [
    "# Grouped Classification Model"
   ]
  },
  {
   "cell_type": "code",
   "execution_count": null,
   "metadata": {},
   "outputs": [],
   "source": [
    "# Splitting our data for training and valdiation\n",
    "x_train, x_test, y_train, y_test = train_test_split(x_data, y_data, test_size=0.1)"
   ]
  },
  {
   "cell_type": "code",
   "execution_count": null,
   "metadata": {},
   "outputs": [],
   "source": [
    "# Displaying our training and validation data count\n",
    "print ('x_train : ', len(x_train))\n",
    "print ('y_train : ', len(y_train))\n",
    "print ('x_test : ', len(x_test))\n",
    "print ('y_test : ', len(y_test))"
   ]
  },
  {
   "cell_type": "markdown",
   "metadata": {},
   "source": [
    "### Data PreProcessing and Creating Data Directories"
   ]
  },
  {
   "cell_type": "code",
   "execution_count": null,
   "metadata": {},
   "outputs": [],
   "source": [
    "# Resizing our training images\n",
    "images_base_dir = \"modified_data/\"\n",
    "save_dir = \"grouped_data/\"\n",
    "\n",
    "os.makedirs(save_dir, exist_ok=True)\n",
    "\n",
    "for imgName, imgClass in zip(x_train, y_train):\n",
    "    dataimg = cv2.imread(images_base_dir + imgName)\n",
    "    dataimg = cv2.cvtColor(dataimg, cv2.COLOR_BGR2RGB)\n",
    "    dataimg = cv2.resize(dataimg, (224, 224))\n",
    "    \n",
    "    os.makedirs( save_dir + \"train/%d/\" % imgClass, exist_ok=True)\n",
    "    cv2.imwrite(save_dir + \"train/%d/%s\" % (imgClass, imgName), dataimg)\n"
   ]
  },
  {
   "cell_type": "code",
   "execution_count": null,
   "metadata": {},
   "outputs": [],
   "source": [
    "# Resizing our validation images\n",
    "for imgName, imgClass in zip(x_test, y_test):\n",
    "    dataimg = cv2.imread(images_base_dir + imgName)\n",
    "    dataimg = cv2.cvtColor(dataimg, cv2.COLOR_BGR2RGB)\n",
    "    dataimg = cv2.resize(dataimg, (224, 224))\n",
    "    \n",
    "    os.makedirs( save_dir + \"test/%d/\" % imgClass, exist_ok=True)\n",
    "    cv2.imwrite(save_dir + \"test/%d/%s\" % (imgClass, imgName), dataimg)"
   ]
  },
  {
   "cell_type": "code",
   "execution_count": null,
   "metadata": {},
   "outputs": [],
   "source": [
    "# Loading mobilenetv2 model\n",
    "base_model= tf.keras.applications.MobileNetV2(weights='imagenet',include_top=False)"
   ]
  },
  {
   "cell_type": "code",
   "execution_count": null,
   "metadata": {},
   "outputs": [],
   "source": [
    "classifciation_model = base_model.output\n",
    "classifciation_model = tf.keras.layers.GlobalAveragePooling2D()(classifciation_model)\n",
    "classifciation_model = tf.keras.layers.Dense(1024, activation='relu')(classifciation_model)\n",
    "classifciation_model = tf.keras.layers.Dropout(0.5)(classifciation_model)\n",
    "classifciation_model = tf.keras.layers.Dense(512, activation='relu')(classifciation_model)\n",
    "classifciation_model = tf.keras.layers.Dropout(0.5)(classifciation_model)\n",
    "classifciation_model = tf.keras.layers.Dense(256, activation='relu')(classifciation_model) \n",
    "classification_out = tf.keras.layers.Dense(93, activation='softmax')(classifciation_model) "
   ]
  },
  {
   "cell_type": "code",
   "execution_count": null,
   "metadata": {},
   "outputs": [],
   "source": [
    "groupedClassificationModel = tf.keras.Model(inputs=base_model.input,outputs=classification_out)"
   ]
  },
  {
   "cell_type": "code",
   "execution_count": null,
   "metadata": {},
   "outputs": [],
   "source": [
    "# Generate batches of tensor image data for training\n",
    "train_datagen = tf.keras.preprocessing.image.ImageDataGenerator(preprocessing_function=tf.keras.applications.mobilenet_v2.preprocess_input)\n",
    "train_generator= train_datagen.flow_from_directory('./grouped_data/train/', \n",
    "                                                 target_size=(224,224),\n",
    "                                                 color_mode='rgb',\n",
    "                                                 batch_size=32,\n",
    "                                                 class_mode='categorical',\n",
    "                                                 shuffle=True)"
   ]
  },
  {
   "cell_type": "code",
   "execution_count": null,
   "metadata": {},
   "outputs": [],
   "source": [
    "# Generate batches of tensor image data for validation\n",
    "test_datagen = tf.keras.preprocessing.image.ImageDataGenerator(preprocessing_function=tf.keras.applications.mobilenet_v2.preprocess_input)\n",
    "test_generator= test_datagen.flow_from_directory('./grouped_data/test/', \n",
    "                                                 target_size=(224,224),\n",
    "                                                 color_mode='rgb',\n",
    "                                                 batch_size=32,\n",
    "                                                 class_mode='categorical',\n",
    "                                                 shuffle=True)"
   ]
  },
  {
   "cell_type": "code",
   "execution_count": null,
   "metadata": {},
   "outputs": [],
   "source": [
    "# Compiling and fiting our model\n",
    "groupedClassificationModel.compile(optimizer='Adam',loss='categorical_crossentropy',metrics=['accuracy'])\n",
    "sst=train_generator.n//train_generator.batch_size\n",
    "groupedClassificationModel.fit_generator(generator=train_generator, steps_per_epoch=sst, epochs=10)"
   ]
  },
  {
   "cell_type": "code",
   "execution_count": null,
   "metadata": {
    "scrolled": true
   },
   "outputs": [],
   "source": [
    "# Running 30 more epochs\n",
    "groupedClassificationModel.fit_generator(generator=train_generator, steps_per_epoch=sst, epochs=30)"
   ]
  },
  {
   "cell_type": "code",
   "execution_count": null,
   "metadata": {
    "scrolled": true
   },
   "outputs": [],
   "source": [
    "# Running 30 more epochs\n",
    "groupedClassificationModel.fit_generator(generator=train_generator, steps_per_epoch=sst, epochs=30)"
   ]
  },
  {
   "cell_type": "code",
   "execution_count": null,
   "metadata": {},
   "outputs": [],
   "source": [
    "# Saving our grouped classification model to a groupedClassificationModel directory\n",
    "model_dir = \"groupedClassificationModel\"\n",
    "os.makedirs(model_dir, exist_ok=True)\n",
    "groupedClassificationModel.save(\"%s/model.h5\" % model_dir)"
   ]
  },
  {
   "cell_type": "code",
   "execution_count": null,
   "metadata": {},
   "outputs": [],
   "source": [
    "# Saving our mapping interger mapping to classes in a np file\n",
    "indices_to_class = {}\n",
    "\n",
    "for k, val in train_generator.class_indices.items():\n",
    "    indices_to_class[val] = k\n",
    "    \n",
    "np.save(\"%s/mapping.np\" % model_dir, indices_to_class)"
   ]
  },
  {
   "cell_type": "code",
   "execution_count": null,
   "metadata": {},
   "outputs": [],
   "source": [
    "# Predicting our trained model validation accuracy for both tilt and pan angle\n",
    "tilt_accuracy = 0\n",
    "pan_accuracy = 0\n",
    "\n",
    "for x, y in zip(x_test, y_test):\n",
    "        \n",
    "    predImg = cv2.imread(save_dir + \"test/%d/%s\" % (y, x))\n",
    "    predImg = tf.keras.applications.mobilenet_v2.preprocess_input(predImg)\n",
    "    pred = groupedClassificationModel.predict(np.array([predImg]))\n",
    "    \n",
    "    predictedClass = class_groups[int(indices_to_class[np.argmax(pred)])]\n",
    "    actualClass = class_groups[y]\n",
    "    \n",
    "    if predictedClass[\"tilt\"] == actualClass[\"tilt\"]:\n",
    "        tilt_accuracy+=1\n",
    "    if predictedClass[\"pan\"] == actualClass[\"pan\"]:\n",
    "        pan_accuracy+=1\n",
    "        \n",
    "        \n",
    "print(\"Tilt accuracy\", tilt_accuracy / len(y_test) * 100)\n",
    "print(\"Pan accuracy\", pan_accuracy / len(y_test) * 100)"
   ]
  },
  {
   "cell_type": "markdown",
   "metadata": {},
   "source": [
    "# Two classification models"
   ]
  },
  {
   "cell_type": "code",
   "execution_count": null,
   "metadata": {},
   "outputs": [],
   "source": [
    "# Storing image path and their tilt and pan angle in lists respectively\n",
    "x_data = []\n",
    "y_data = []\n",
    "\n",
    "for item in dataset:\n",
    "    x_data.append(item[\"file\"])\n",
    "    y_data.append({\"tilt\": item[\"tilt\"], \"pan\" : item[\"pan\"]})\n",
    "\n",
    "y_data"
   ]
  },
  {
   "cell_type": "code",
   "execution_count": null,
   "metadata": {},
   "outputs": [],
   "source": [
    "# Splitting our data for training and valdiation\n",
    "x_train, x_test, y_train, y_test = train_test_split(x_data, y_data, test_size=0.1)"
   ]
  },
  {
   "cell_type": "code",
   "execution_count": null,
   "metadata": {},
   "outputs": [],
   "source": [
    "print(len(x_train), len(y_train), len(x_test), len(y_test))"
   ]
  },
  {
   "cell_type": "markdown",
   "metadata": {},
   "source": [
    "### Data PreProcessing and Creating Data Directories"
   ]
  },
  {
   "cell_type": "code",
   "execution_count": null,
   "metadata": {},
   "outputs": [],
   "source": [
    "# Resizing our training images and validation images\n",
    "images_base_dir = \"modified_data/\"\n",
    "save_dir = \"bi_classification_data/\"\n",
    "\n",
    "os.makedirs(save_dir, exist_ok=True)\n",
    "os.makedirs(save_dir + \"/tilt/\", exist_ok=True)\n",
    "os.makedirs(save_dir + \"/pan/\", exist_ok=True)\n",
    "\n",
    "for imgName, imgClasses in zip(x_train, y_train):\n",
    "    \n",
    "    dataimg = cv2.imread(images_base_dir + imgName)\n",
    "    dataimg = cv2.cvtColor(dataimg, cv2.COLOR_BGR2RGB)\n",
    "    dataimg = cv2.resize(dataimg, (224, 224))\n",
    "    \n",
    "    os.makedirs(save_dir + \"tilt/train/%d/\" % imgClasses[\"tilt\"], exist_ok=True)\n",
    "    cv2.imwrite(save_dir + \"tilt/train/%d/%s\" % (imgClasses[\"tilt\"], imgName), dataimg)\n",
    "    \n",
    "    os.makedirs(save_dir + \"pan/train/%d/\" % imgClasses[\"pan\"], exist_ok=True)\n",
    "    cv2.imwrite(save_dir + \"pan/train/%d/%s\" % (imgClasses[\"pan\"], imgName), dataimg)\n",
    "    \n",
    "\n",
    "for imgName, imgClasses in zip(x_test, y_test):\n",
    "    \n",
    "    dataimg = cv2.imread(images_base_dir + imgName)\n",
    "    dataimg = cv2.cvtColor(dataimg, cv2.COLOR_BGR2RGB)\n",
    "    dataimg = cv2.resize(dataimg, (224, 224))\n",
    "    \n",
    "    os.makedirs(save_dir + \"tilt/test/%d/\" % imgClasses[\"tilt\"], exist_ok=True)\n",
    "    cv2.imwrite(save_dir + \"tilt/test/%d/%s\" % (imgClasses[\"tilt\"], imgName), dataimg)\n",
    "    \n",
    "    os.makedirs(save_dir + \"pan/test/%d/\" % imgClasses[\"pan\"], exist_ok=True)\n",
    "    cv2.imwrite(save_dir + \"pan/test/%d/%s\" % (imgClasses[\"pan\"], imgName), dataimg)"
   ]
  },
  {
   "cell_type": "code",
   "execution_count": null,
   "metadata": {},
   "outputs": [],
   "source": [
    "# Loading mobilenetv2 model\n",
    "base_model= tf.keras.applications.MobileNetV2(weights='imagenet',include_top=False)\n",
    "tilt_classifciation_model = base_model.output\n",
    "tilt_classifciation_model = tf.keras.layers.GlobalAveragePooling2D()(tilt_classifciation_model)\n",
    "tilt_classifciation_model = tf.keras.layers.Dense(256, activation='relu')(tilt_classifciation_model)\n",
    "tilt_classifciation_model = tf.keras.layers.Dropout(0.5)(tilt_classifciation_model)\n",
    "tilt_classifciation_model = tf.keras.layers.Dense(128, activation='relu')(tilt_classifciation_model)\n",
    "tilt_classifciation_model = tf.keras.layers.Dropout(0.5)(tilt_classifciation_model)\n",
    "tilt_classifciation_model = tf.keras.layers.Dense(64, activation='relu')(tilt_classifciation_model) \n",
    "tilt_classification_out = tf.keras.layers.Dense(len(all_tilts), activation='softmax')(tilt_classifciation_model) "
   ]
  },
  {
   "cell_type": "code",
   "execution_count": null,
   "metadata": {},
   "outputs": [],
   "source": [
    "tiltClassificationModel = tf.keras.Model(inputs=base_model.input,outputs=tilt_classification_out)"
   ]
  },
  {
   "cell_type": "code",
   "execution_count": null,
   "metadata": {},
   "outputs": [],
   "source": [
    "# Generate batches of tensor image data for training\n",
    "tilt_train_datagen = tf.keras.preprocessing.image.ImageDataGenerator(preprocessing_function=tf.keras.applications.mobilenet_v2.preprocess_input)\n",
    "tilt_train_generator= tilt_train_datagen.flow_from_directory('./bi_classification_data/tilt/train/', \n",
    "                                                 target_size=(224,224),\n",
    "                                                 color_mode='rgb',\n",
    "                                                 batch_size=32,\n",
    "                                                 class_mode='categorical',\n",
    "                                                 shuffle=True)"
   ]
  },
  {
   "cell_type": "code",
   "execution_count": null,
   "metadata": {},
   "outputs": [],
   "source": [
    "# Compiling and fiting our model\n",
    "tiltClassificationModel.compile(optimizer='Adam', loss='categorical_crossentropy', metrics=['accuracy'])\n",
    "sst=tilt_train_generator.n//tilt_train_generator.batch_size\n",
    "tiltClassificationModel.fit_generator(generator=tilt_train_generator, steps_per_epoch=sst, epochs=1)"
   ]
  },
  {
   "cell_type": "code",
   "execution_count": null,
   "metadata": {},
   "outputs": [],
   "source": [
    "# Running 5 more epochs\n",
    "tiltClassificationModel.fit_generator(generator=tilt_train_generator, steps_per_epoch=sst, epochs=5)"
   ]
  },
  {
   "cell_type": "code",
   "execution_count": null,
   "metadata": {
    "scrolled": true
   },
   "outputs": [],
   "source": [
    "# Running 10 more epochs\n",
    "tiltClassificationModel.fit_generator(generator=tilt_train_generator, steps_per_epoch=sst, epochs=10)"
   ]
  },
  {
   "cell_type": "code",
   "execution_count": null,
   "metadata": {
    "scrolled": true
   },
   "outputs": [],
   "source": [
    "# Running 10 more epochs\n",
    "tiltClassificationModel.fit_generator(generator=tilt_train_generator, steps_per_epoch=sst, epochs=10)"
   ]
  },
  {
   "cell_type": "code",
   "execution_count": null,
   "metadata": {},
   "outputs": [],
   "source": [
    "# Running 5 more epochs\n",
    "tiltClassificationModel.fit_generator(generator=tilt_train_generator, steps_per_epoch=sst, epochs=5)"
   ]
  },
  {
   "cell_type": "code",
   "execution_count": null,
   "metadata": {},
   "outputs": [],
   "source": [
    "# Running 5 more epochs\n",
    "tiltClassificationModel.fit_generator(generator=tilt_train_generator, steps_per_epoch=sst, epochs=5)"
   ]
  },
  {
   "cell_type": "code",
   "execution_count": null,
   "metadata": {},
   "outputs": [],
   "source": [
    "# Saving our tilt classification model to a twoClassificationModels directory\n",
    "model_dir = \"twoClassificationModels\"\n",
    "os.makedirs(model_dir, exist_ok=True)\n",
    "tiltClassificationModel.save(\"%s/tilt_model.h5\" % model_dir)"
   ]
  },
  {
   "cell_type": "code",
   "execution_count": null,
   "metadata": {},
   "outputs": [],
   "source": [
    "# Loading mobilenetv2 model\n",
    "base_model= tf.keras.applications.MobileNetV2(weights='imagenet', include_top=False)\n",
    "pan_classifciation_model = base_model.output\n",
    "pan_classifciation_model = tf.keras.layers.GlobalAveragePooling2D()(pan_classifciation_model)\n",
    "pan_classifciation_model = tf.keras.layers.Dense(256, activation='relu')(pan_classifciation_model)\n",
    "pan_classifciation_model = tf.keras.layers.Dropout(0.5)(pan_classifciation_model)\n",
    "pan_classifciation_model = tf.keras.layers.Dense(128, activation='relu')(pan_classifciation_model)\n",
    "pan_classifciation_model = tf.keras.layers.Dropout(0.5)(pan_classifciation_model)\n",
    "pan_classifciation_model = tf.keras.layers.Dense(64, activation='relu')(pan_classifciation_model) \n",
    "pan_classification_out = tf.keras.layers.Dense(len(all_pans), activation='softmax')(pan_classifciation_model) "
   ]
  },
  {
   "cell_type": "code",
   "execution_count": null,
   "metadata": {},
   "outputs": [],
   "source": [
    "panClassificationModel = tf.keras.Model(inputs=base_model.input,outputs=pan_classification_out)"
   ]
  },
  {
   "cell_type": "code",
   "execution_count": null,
   "metadata": {},
   "outputs": [],
   "source": [
    "# Generate batches of tensor image data for training\n",
    "pan_train_datagen = tf.keras.preprocessing.image.ImageDataGenerator(preprocessing_function=tf.keras.applications.mobilenet_v2.preprocess_input)\n",
    "pan_train_generator= pan_train_datagen.flow_from_directory('./bi_classification_data/pan/train/', \n",
    "                                                 target_size=(224,224),\n",
    "                                                 color_mode='rgb',\n",
    "                                                 batch_size=32,\n",
    "                                                 class_mode='categorical',\n",
    "                                                 shuffle=True)"
   ]
  },
  {
   "cell_type": "code",
   "execution_count": null,
   "metadata": {
    "scrolled": true
   },
   "outputs": [],
   "source": [
    "# Compiling and fiting our model\n",
    "panClassificationModel.compile(optimizer='Adam',loss='categorical_crossentropy',metrics=['accuracy'])\n",
    "sst=pan_train_generator.n//pan_train_generator.batch_size\n",
    "panClassificationModel.fit_generator(generator=pan_train_generator, steps_per_epoch=sst, epochs=30)"
   ]
  },
  {
   "cell_type": "code",
   "execution_count": null,
   "metadata": {},
   "outputs": [],
   "source": [
    "# Running 5 more epochs\n",
    "panClassificationModel.fit_generator(generator=pan_train_generator, steps_per_epoch=sst, epochs=5)"
   ]
  },
  {
   "cell_type": "code",
   "execution_count": null,
   "metadata": {},
   "outputs": [],
   "source": [
    "# Running 5 more epochs\n",
    "panClassificationModel.fit_generator(generator=pan_train_generator, steps_per_epoch=sst, epochs=5)"
   ]
  },
  {
   "cell_type": "code",
   "execution_count": null,
   "metadata": {},
   "outputs": [],
   "source": [
    "# Saving our pan classification model to a twoClassificationModels directory\n",
    "panClassificationModel.save(\"%s/pan_model.h5\" % model_dir)"
   ]
  },
  {
   "cell_type": "markdown",
   "metadata": {},
   "source": [
    "## Evaluation of Two classification models"
   ]
  },
  {
   "cell_type": "code",
   "execution_count": null,
   "metadata": {},
   "outputs": [],
   "source": [
    "# Generate batches of tensor image data for validation\n",
    "tilt_test_datagen = tf.keras.preprocessing.image.ImageDataGenerator(preprocessing_function=tf.keras.applications.mobilenet_v2.preprocess_input)\n",
    "tilt_test_generator= tilt_test_datagen.flow_from_directory('./bi_classification_data/tilt/test/', \n",
    "                                                 target_size=(224,224),\n",
    "                                                 color_mode='rgb',\n",
    "                                                 batch_size=32,\n",
    "                                                 class_mode='categorical',\n",
    "                                                 shuffle=True)"
   ]
  },
  {
   "cell_type": "code",
   "execution_count": null,
   "metadata": {},
   "outputs": [],
   "source": [
    "print(\"Tilt Classifier accuracy on evaluation dataset:\",tiltClassificationModel.evaluate_generator(tilt_test_generator)[1] * 100)"
   ]
  },
  {
   "cell_type": "code",
   "execution_count": null,
   "metadata": {},
   "outputs": [],
   "source": [
    "# Generate batches of tensor image data for validation\n",
    "pan_test_datagen = tf.keras.preprocessing.image.ImageDataGenerator(preprocessing_function=tf.keras.applications.mobilenet_v2.preprocess_input)\n",
    "pan_test_generator= pan_test_datagen.flow_from_directory('./bi_classification_data/pan/test/', \n",
    "                                                 target_size=(224,224),\n",
    "                                                 color_mode='rgb',\n",
    "                                                 batch_size=32,\n",
    "                                                 class_mode='categorical',\n",
    "                                                 shuffle=True)"
   ]
  },
  {
   "cell_type": "code",
   "execution_count": null,
   "metadata": {},
   "outputs": [],
   "source": [
    "print(\"Pan Classifier accuracy on evaluation dataset:\", panClassificationModel.evaluate_generator(pan_test_generator)[1] * 100)"
   ]
  },
  {
   "cell_type": "markdown",
   "metadata": {},
   "source": [
    "# Testing Data"
   ]
  },
  {
   "cell_type": "code",
   "execution_count": null,
   "metadata": {},
   "outputs": [],
   "source": [
    "# Reading test CSV file\n",
    "with open(\"./test_data.csv\", \"r\") as f:\n",
    "    lines = f.readlines()\n",
    "    \n",
    "test_dataset = []\n",
    "\n",
    "for line in lines[1:]:\n",
    "    sline = line.strip().split(\",\")\n",
    "    test_dataset.append(sline[0])\n",
    "    \n",
    "len(test_dataset)"
   ]
  },
  {
   "cell_type": "code",
   "execution_count": null,
   "metadata": {
    "scrolled": true
   },
   "outputs": [],
   "source": [
    "# Reading a np file with mapping of interger to our respective tilt and pan angle\n",
    "tilt_indices_to_class = {}\n",
    "for k, val in tilt_train_generator.class_indices.items():\n",
    "    tilt_indices_to_class[val] = k\n",
    "    \n",
    "pan_indices_to_class = {}\n",
    "for k, val in pan_train_generator.class_indices.items():\n",
    "    pan_indices_to_class[val] = k\n",
    "    \n",
    "tilt_indices_to_class, pan_indices_to_class"
   ]
  },
  {
   "cell_type": "code",
   "execution_count": null,
   "metadata": {},
   "outputs": [],
   "source": [
    "# Making Prediction with our trained two classifier model on test data set for submission\n",
    "images_base_dir = \"modified_data/\"\n",
    "\n",
    "with open(\"s3802338_predictions.csv\", \"w\") as f:\n",
    "    \n",
    "    f.write(\"filename, tilt, pan\\n\")\n",
    "    for idx, imgName in enumerate(test_dataset):\n",
    "        print(idx+1, \"/\", len(test_dataset))\n",
    "        dataimg = cv2.imread(images_base_dir + imgName)\n",
    "        dataimg = cv2.cvtColor(dataimg, cv2.COLOR_BGR2RGB)\n",
    "        dataimg = cv2.resize(dataimg, (224, 224))\n",
    "        dataimg = tf.keras.applications.mobilenet_v2.preprocess_input(dataimg)\n",
    "\n",
    "        predictedTilt = tiltClassificationModel.predict(np.array([dataimg]))\n",
    "        predictedPan = panClassificationModel.predict(np.array([dataimg]))\n",
    "        \n",
    "        predictedTilt = int(tilt_indices_to_class[np.argmax(predictedTilt)])\n",
    "        predictedPan = int(pan_indices_to_class[np.argmax(predictedPan)])\n",
    "        \n",
    "        f.write(\"%s, %d, %d\\n\" % (imgName, predictedTilt, predictedPan))"
   ]
  },
  {
   "cell_type": "markdown",
   "metadata": {},
   "source": [
    "# Testing on unseen data"
   ]
  },
  {
   "cell_type": "code",
   "execution_count": null,
   "metadata": {},
   "outputs": [],
   "source": [
    "from IPython.display import Image"
   ]
  },
  {
   "cell_type": "code",
   "execution_count": null,
   "metadata": {},
   "outputs": [],
   "source": [
    "# Testing our model on unseen data\n",
    "unseen = glob.glob(\"unseen_data/*\")"
   ]
  },
  {
   "cell_type": "code",
   "execution_count": null,
   "metadata": {},
   "outputs": [],
   "source": [
    "def test_image(img_path):\n",
    "    \n",
    "    dataimg = cv2.imread(img_path)\n",
    "    dataimg = cv2.cvtColor(dataimg, cv2.COLOR_BGR2RGB)\n",
    "    dataimg = cv2.resize(dataimg, (224, 224))\n",
    "    dataimg = tf.keras.applications.mobilenet_v2.preprocess_input(dataimg)\n",
    "\n",
    "    predictedTilt = tiltClassificationModel.predict(np.array([dataimg]))\n",
    "    predictedPan = panClassificationModel.predict(np.array([dataimg]))\n",
    "\n",
    "    predictedTilt = int(tilt_indices_to_class[np.argmax(predictedTilt)])\n",
    "    predictedPan = int(pan_indices_to_class[np.argmax(predictedPan)])\n",
    "\n",
    "    print(\"The tilt in the image is %d degrees\" % predictedTilt)\n",
    "    print(\"The pan in the image is %d degrees\" % predictedPan)\n"
   ]
  },
  {
   "cell_type": "code",
   "execution_count": null,
   "metadata": {},
   "outputs": [],
   "source": [
    "selectedIdx = 0\n",
    "test_image(unseen[selectedIdx])\n",
    "Image(filename=unseen[selectedIdx])"
   ]
  },
  {
   "cell_type": "code",
   "execution_count": null,
   "metadata": {},
   "outputs": [],
   "source": [
    "selectedIdx = 1\n",
    "test_image(unseen[selectedIdx])\n",
    "Image(filename=unseen[selectedIdx])"
   ]
  },
  {
   "cell_type": "code",
   "execution_count": null,
   "metadata": {},
   "outputs": [],
   "source": [
    "selectedIdx = 2\n",
    "test_image(unseen[selectedIdx])\n",
    "Image(filename=unseen[selectedIdx])"
   ]
  },
  {
   "cell_type": "code",
   "execution_count": null,
   "metadata": {},
   "outputs": [],
   "source": []
  }
 ],
 "metadata": {
  "kernelspec": {
   "display_name": "Python 3",
   "language": "python",
   "name": "python3"
  },
  "language_info": {
   "codemirror_mode": {
    "name": "ipython",
    "version": 3
   },
   "file_extension": ".py",
   "mimetype": "text/x-python",
   "name": "python",
   "nbconvert_exporter": "python",
   "pygments_lexer": "ipython3",
   "version": "3.7.3"
  }
 },
 "nbformat": 4,
 "nbformat_minor": 4
}
